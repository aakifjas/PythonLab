{
  "nbformat": 4,
  "nbformat_minor": 0,
  "metadata": {
    "colab": {
      "name": "Untitled0.ipynb",
      "provenance": [],
      "collapsed_sections": [],
      "include_colab_link": true
    },
    "kernelspec": {
      "name": "python3",
      "display_name": "Python 3"
    },
    "language_info": {
      "name": "python"
    }
  },
  "cells": [
    {
      "cell_type": "markdown",
      "metadata": {
        "id": "view-in-github",
        "colab_type": "text"
      },
      "source": [
        "<a href=\"https://colab.research.google.com/github/aakifjas/PythonLab/blob/main/python%20programs.ipynb\" target=\"_parent\"><img src=\"https://colab.research.google.com/assets/colab-badge.svg\" alt=\"Open In Colab\"/></a>"
      ]
    },
    {
      "cell_type": "code",
      "execution_count": 1,
      "metadata": {
        "colab": {
          "base_uri": "https://localhost:8080/"
        },
        "id": "ClIQ0IpX9_MY",
        "outputId": "28f66d14-6d22-4dd0-ea88-865802e7e571"
      },
      "outputs": [
        {
          "output_type": "stream",
          "name": "stdout",
          "text": [
            "the sum of 3.3 and 6.9 is 10.2\n"
          ]
        }
      ],
      "source": [
        "num1 = 3.3\n",
        "num2 = 6.9\n",
        "sum = num1 + num2\n",
        "print('the sum of {0} and {1} is {2}'.format(num1,num2,sum))"
      ]
    },
    {
      "cell_type": "code",
      "source": [
        "num1 = input('enter first number:')\n",
        "num2 = input('enter second number:')\n",
        "sum = float(num1) + float(num2)\n",
        "print('the sum of {0} and {1} is {2}'.format(num1,num2,sum))"
      ],
      "metadata": {
        "colab": {
          "base_uri": "https://localhost:8080/"
        },
        "id": "EI7rQ5b4-mPp",
        "outputId": "2fa26396-792e-4187-ee78-95c4e43fd539"
      },
      "execution_count": 2,
      "outputs": [
        {
          "output_type": "stream",
          "name": "stdout",
          "text": [
            "enter first number:56\n",
            "enter second number:44\n",
            "the sum of 56 and 44 is 100.0\n"
          ]
        }
      ]
    },
    {
      "cell_type": "code",
      "source": [
        "num = 125\n",
        "num_sqrt = num**0.5\n",
        "print('the square root of %0.5f is %0.5f'%(num,num_sqrt))"
      ],
      "metadata": {
        "colab": {
          "base_uri": "https://localhost:8080/"
        },
        "id": "Pk5Entu5_eI2",
        "outputId": "76a21628-dcb8-43af-fdb1-d998eed39980"
      },
      "execution_count": 3,
      "outputs": [
        {
          "output_type": "stream",
          "name": "stdout",
          "text": [
            "the square root of 125.00000 is 11.18034\n"
          ]
        }
      ]
    },
    {
      "cell_type": "code",
      "source": [
        "import cmath\n",
        "num = 1+2j\n",
        "num_sqrt = cmath.sqrt(num)\n",
        "print('the sum root of {0} is {1:0.5f} + {2:0.5f}j'.format(num,num_sqrt.real,num_sqrt.imag))"
      ],
      "metadata": {
        "colab": {
          "base_uri": "https://localhost:8080/"
        },
        "id": "IvueokMmDLSp",
        "outputId": "f16da31b-a361-4159-e022-e4c93abbe8a9"
      },
      "execution_count": 4,
      "outputs": [
        {
          "output_type": "stream",
          "name": "stdout",
          "text": [
            "the sum root of (1+2j) is 1.27202 + 0.78615j\n"
          ]
        }
      ]
    },
    {
      "cell_type": "code",
      "source": [
        "a = 15\n",
        "b = 24\n",
        "c = 26\n",
        "s = (a+b+c)/2\n",
        "area = (s*(s-a)*(s-b)*(s-c))**0.5\n",
        "print('the area of the triangle is %0.5f'%area)"
      ],
      "metadata": {
        "colab": {
          "base_uri": "https://localhost:8080/"
        },
        "id": "xp0SxN0TMpYK",
        "outputId": "402efa19-a91a-47d7-9786-5c1a3f27d4cf"
      },
      "execution_count": 5,
      "outputs": [
        {
          "output_type": "stream",
          "name": "stdout",
          "text": [
            "the area of the triangle is 177.26657\n"
          ]
        }
      ]
    },
    {
      "cell_type": "code",
      "source": [
        "x = 5\n",
        "y = 10\n",
        "temp = x\n",
        "x = y\n",
        "y = temp\n",
        "print('the value of x after swapping: {}'.format(x))\n",
        "print('the value of y after swapping: {}'.format(y))"
      ],
      "metadata": {
        "colab": {
          "base_uri": "https://localhost:8080/"
        },
        "id": "Fdl0tFuJOG39",
        "outputId": "e6660eda-4dda-4b45-c3e0-39d388e10b44"
      },
      "execution_count": 6,
      "outputs": [
        {
          "output_type": "stream",
          "name": "stdout",
          "text": [
            "the value of x after swapping: 10\n",
            "the value of y after swapping: 5\n"
          ]
        }
      ]
    },
    {
      "cell_type": "code",
      "source": [
        "website = 'juiceworld.com'\n",
        "print(website)"
      ],
      "metadata": {
        "colab": {
          "base_uri": "https://localhost:8080/"
        },
        "id": "GDMyS52hOw5b",
        "outputId": "bbb60d13-6dee-4782-dd84-dd48900a40c1"
      },
      "execution_count": 8,
      "outputs": [
        {
          "output_type": "stream",
          "name": "stdout",
          "text": [
            "juiceworld.com\n"
          ]
        }
      ]
    },
    {
      "cell_type": "code",
      "source": [
        "website = 'weekend.com'\n",
        "print(website)\n",
        "website = 'kardibey.com'\n",
        "print(website)\n",
        "website = 'attackontitans.com'\n",
        "print(website)\n",
        "website = 'dark.com'\n",
        "print(website)"
      ],
      "metadata": {
        "colab": {
          "base_uri": "https://localhost:8080/"
        },
        "id": "zenNjFT3PSHQ",
        "outputId": "d6231346-1cc0-40d2-de9b-8d4311649ee6"
      },
      "execution_count": 10,
      "outputs": [
        {
          "output_type": "stream",
          "name": "stdout",
          "text": [
            "weekend.com\n",
            "kardibey.com\n",
            "attackontitans.com\n",
            "dark.com\n"
          ]
        }
      ]
    },
    {
      "cell_type": "code",
      "source": [
        "a,b,c = 12,24.26,'helllllllllo'\n",
        "print(a)\n",
        "print(b)\n",
        "print(c)"
      ],
      "metadata": {
        "colab": {
          "base_uri": "https://localhost:8080/"
        },
        "id": "1exRoozGQ8JX",
        "outputId": "d594a6a5-bacd-4c27-a065-3c572fe51450"
      },
      "execution_count": null,
      "outputs": [
        {
          "output_type": "stream",
          "name": "stdout",
          "text": [
            "12\n",
            "24.26\n",
            "helllllllllo\n"
          ]
        }
      ]
    },
    {
      "cell_type": "code",
      "source": [
        "a = b = c = 'same'\n",
        "print(a)\n",
        "print(b)\n",
        "print(c)"
      ],
      "metadata": {
        "colab": {
          "base_uri": "https://localhost:8080/"
        },
        "id": "ZF0uYMZ2RZTV",
        "outputId": "0150867b-8076-4c4b-f035-b8cea063df45"
      },
      "execution_count": 11,
      "outputs": [
        {
          "output_type": "stream",
          "name": "stdout",
          "text": [
            "same\n",
            "same\n",
            "same\n"
          ]
        }
      ]
    },
    {
      "cell_type": "code",
      "source": [
        "def max_of_two( x, y ):\n",
        "    if x > y:\n",
        "        return x\n",
        "    return y\n",
        "def max_of_three( x, y, z ):\n",
        "    return max_of_two( x, max_of_two( y, z ) )\n",
        "print(max_of_three(12, 8, -15))"
      ],
      "metadata": {
        "colab": {
          "base_uri": "https://localhost:8080/"
        },
        "id": "uJv6XycYatIa",
        "outputId": "ef4ca0be-9998-44c3-e282-22fafba57fe2"
      },
      "execution_count": 12,
      "outputs": [
        {
          "output_type": "stream",
          "name": "stdout",
          "text": [
            "12\n"
          ]
        }
      ]
    },
    {
      "cell_type": "code",
      "source": [
        "def sum(numbers):\n",
        "    total = 0\n",
        "    for x in numbers:\n",
        "        total += x\n",
        "    return total\n",
        "print(sum((18, 12, 13, 10, 17)))"
      ],
      "metadata": {
        "colab": {
          "base_uri": "https://localhost:8080/"
        },
        "id": "JloXb1Gna2IP",
        "outputId": "7d07d75a-c2d7-4c99-be77-5446810b9703"
      },
      "execution_count": 13,
      "outputs": [
        {
          "output_type": "stream",
          "name": "stdout",
          "text": [
            "70\n"
          ]
        }
      ]
    },
    {
      "cell_type": "code",
      "source": [
        "def multiply(numbers):  \n",
        "    total = 1\n",
        "    for x in numbers:\n",
        "        total *= x  \n",
        "    return total  \n",
        "print(multiply((18, 12, 13, -11, 17)))"
      ],
      "metadata": {
        "colab": {
          "base_uri": "https://localhost:8080/"
        },
        "id": "IXDLEIxFbO2_",
        "outputId": "f98ace9a-3665-48fc-eb0f-c2640f68b26a"
      },
      "execution_count": 14,
      "outputs": [
        {
          "output_type": "stream",
          "name": "stdout",
          "text": [
            "-525096\n"
          ]
        }
      ]
    },
    {
      "cell_type": "code",
      "source": [
        "def string_reverse(str1):\n",
        "\n",
        "    rstr1 = ''\n",
        "    index = len(str1)\n",
        "    while index > 0:\n",
        "        rstr1 += str1[ index - 1 ]\n",
        "        index = index - 1\n",
        "    return rstr1\n",
        "print(string_reverse('1234dfhteuabcd'))"
      ],
      "metadata": {
        "colab": {
          "base_uri": "https://localhost:8080/"
        },
        "id": "oU_OsIUKbYA1",
        "outputId": "e85b3436-c5e9-4820-9ff7-8bce9c7a1fbc"
      },
      "execution_count": 15,
      "outputs": [
        {
          "output_type": "stream",
          "name": "stdout",
          "text": [
            "dcbauethfd4321\n"
          ]
        }
      ]
    },
    {
      "cell_type": "code",
      "source": [
        "def factorial(n):\n",
        "    if n == 0:\n",
        "        return 1\n",
        "    else:\n",
        "        return n * factorial(n-1)\n",
        "n=int(input(\"Input a number to compute the factiorial : \"))\n",
        "print(factorial(n))"
      ],
      "metadata": {
        "colab": {
          "base_uri": "https://localhost:8080/"
        },
        "id": "246vHp5_bpQw",
        "outputId": "2171d1c8-b384-49e1-837c-725653c84ff8"
      },
      "execution_count": 16,
      "outputs": [
        {
          "output_type": "stream",
          "name": "stdout",
          "text": [
            "Input a number to compute the factiorial : 25\n",
            "15511210043330985984000000\n"
          ]
        }
      ]
    },
    {
      "cell_type": "code",
      "source": [
        "def test_range(n):\n",
        "    if n in range(3,9):\n",
        "        print( \" %s is in the range\"%str(n))\n",
        "    else :\n",
        "        print(\"The number is outside the given range.\")\n",
        "test_range(5)"
      ],
      "metadata": {
        "colab": {
          "base_uri": "https://localhost:8080/"
        },
        "id": "qeg01spOcNI2",
        "outputId": "3e910e71-c687-43ae-fb17-c1c43dd22daa"
      },
      "execution_count": 17,
      "outputs": [
        {
          "output_type": "stream",
          "name": "stdout",
          "text": [
            " 5 is in the range\n"
          ]
        }
      ]
    },
    {
      "cell_type": "code",
      "source": [
        "def string_test(s):\n",
        "    d={\"UPPER_CASE\":0, \"LOWER_CASE\":0}\n",
        "    for c in s:\n",
        "        if c.isupper():\n",
        "           d[\"UPPER_CASE\"]+=1\n",
        "        elif c.islower():\n",
        "           d[\"LOWER_CASE\"]+=1\n",
        "        else:\n",
        "           pass\n",
        "    print (\"Original String : \", s)\n",
        "    print (\"No. of Upper case characters : \", d[\"UPPER_CASE\"])\n",
        "    print (\"No. of Lower case Characters : \", d[\"LOWER_CASE\"])\n",
        "\n",
        "string_test('The quick Brown Fox')"
      ],
      "metadata": {
        "colab": {
          "base_uri": "https://localhost:8080/"
        },
        "id": "OfIKRpLvcPJW",
        "outputId": "b1496b51-4970-4ee0-cbf8-3aecedc3fc7c"
      },
      "execution_count": 18,
      "outputs": [
        {
          "output_type": "stream",
          "name": "stdout",
          "text": [
            "Original String :  The quick Brown Fox\n",
            "No. of Upper case characters :  3\n",
            "No. of Lower case Characters :  13\n"
          ]
        }
      ]
    },
    {
      "cell_type": "code",
      "source": [
        "def unique_list(l):\n",
        "  x = []\n",
        "  for a in l:\n",
        "    if a not in x:\n",
        "      x.append(a)\n",
        "  return x\n",
        "\n",
        "print(unique_list([1,2,3,3,3,3,4,5]))"
      ],
      "metadata": {
        "colab": {
          "base_uri": "https://localhost:8080/"
        },
        "id": "JBwTAUOgcdiP",
        "outputId": "a1358843-e965-4cbf-b190-1784d92e0d4e"
      },
      "execution_count": 19,
      "outputs": [
        {
          "output_type": "stream",
          "name": "stdout",
          "text": [
            "[1, 2, 3, 4, 5]\n"
          ]
        }
      ]
    },
    {
      "cell_type": "code",
      "source": [
        "def test_prime(n):\n",
        "    if (n==1):\n",
        "        return False\n",
        "    elif (n==2):\n",
        "        return True;\n",
        "    else:\n",
        "        for x in range(2,n):\n",
        "            if(n % x==0):\n",
        "                return False\n",
        "        return True             \n",
        "print(test_prime(9))"
      ],
      "metadata": {
        "colab": {
          "base_uri": "https://localhost:8080/"
        },
        "id": "NKmLbr1ucfCQ",
        "outputId": "d1aa41f2-d3c5-48ce-d864-76866ae58deb"
      },
      "execution_count": 20,
      "outputs": [
        {
          "output_type": "stream",
          "name": "stdout",
          "text": [
            "False\n"
          ]
        }
      ]
    },
    {
      "cell_type": "code",
      "source": [
        "def perfect_number(n):\n",
        "    sum = 0\n",
        "    for x in range(1, n):\n",
        "        if n % x == 0:\n",
        "            sum += x\n",
        "    return sum == n\n",
        "print(perfect_number(6))"
      ],
      "metadata": {
        "colab": {
          "base_uri": "https://localhost:8080/"
        },
        "id": "iAvfiV29conx",
        "outputId": "d3c7a9e9-eca4-4db7-b2b8-4ebd9e3b816b"
      },
      "execution_count": 21,
      "outputs": [
        {
          "output_type": "stream",
          "name": "stdout",
          "text": [
            "True\n"
          ]
        }
      ]
    },
    {
      "cell_type": "code",
      "source": [
        "def perfect_number(n):\n",
        "    sum = 0\n",
        "    for x in range(1, n):\n",
        "        if n % x == 0:\n",
        "            sum += x\n",
        "    return sum == n\n",
        "print(perfect_number(6))"
      ],
      "metadata": {
        "colab": {
          "base_uri": "https://localhost:8080/"
        },
        "id": "BY3TO7ldc2U2",
        "outputId": "8f2998d5-a7e3-4c27-fcd8-059a6ecdd5b5"
      },
      "execution_count": 22,
      "outputs": [
        {
          "output_type": "stream",
          "name": "stdout",
          "text": [
            "True\n"
          ]
        }
      ]
    },
    {
      "cell_type": "code",
      "source": [
        "def isPalindrome(string):\n",
        "\tleft_pos = 0\n",
        "\tright_pos = len(string) - 1\n",
        "\t\n",
        "\twhile right_pos >= left_pos:\n",
        "\t\tif not string[left_pos] == string[right_pos]:\n",
        "\t\t\treturn False\n",
        "\t\tleft_pos += 1\n",
        "\t\tright_pos -= 1\n",
        "\treturn True\n",
        "print(isPalindrome('aza'))"
      ],
      "metadata": {
        "colab": {
          "base_uri": "https://localhost:8080/"
        },
        "id": "SvAj7RjWc86_",
        "outputId": "f7f31f65-be65-4ecc-8387-17fd1f0f2f33"
      },
      "execution_count": 23,
      "outputs": [
        {
          "output_type": "stream",
          "name": "stdout",
          "text": [
            "True\n"
          ]
        }
      ]
    },
    {
      "cell_type": "code",
      "source": [
        "def pascal_triangle(n):\n",
        "   trow = [1]\n",
        "   y = [0]\n",
        "   for x in range(max(n,0)):\n",
        "      print(trow)\n",
        "      trow=[l+r for l,r in zip(trow+y, y+trow)]\n",
        "   return n>=1\n",
        "pascal_triangle(6)"
      ],
      "metadata": {
        "colab": {
          "base_uri": "https://localhost:8080/"
        },
        "id": "mcY7C6iZdE-_",
        "outputId": "a66648ad-5397-4d86-e11a-82c54da546af"
      },
      "execution_count": 24,
      "outputs": [
        {
          "output_type": "stream",
          "name": "stdout",
          "text": [
            "[1]\n",
            "[1, 1]\n",
            "[1, 2, 1]\n",
            "[1, 3, 3, 1]\n",
            "[1, 4, 6, 4, 1]\n",
            "[1, 5, 10, 10, 5, 1]\n"
          ]
        },
        {
          "output_type": "execute_result",
          "data": {
            "text/plain": [
              "True"
            ]
          },
          "metadata": {},
          "execution_count": 24
        }
      ]
    },
    {
      "cell_type": "code",
      "source": [
        "import string, sys\n",
        "def ispangram(str1, alphabet=string.ascii_lowercase):\n",
        "    alphaset = set(alphabet)\n",
        "    return alphaset <= set(str1.lower())\n",
        " \n",
        "print ( ispangram('The quick brown fox jumps over the lazy dog'))"
      ],
      "metadata": {
        "colab": {
          "base_uri": "https://localhost:8080/"
        },
        "id": "tsyJGTimdNUG",
        "outputId": "f421ae36-daf8-4c39-908e-b22c9dae72ab"
      },
      "execution_count": 25,
      "outputs": [
        {
          "output_type": "stream",
          "name": "stdout",
          "text": [
            "True\n"
          ]
        }
      ]
    },
    {
      "cell_type": "code",
      "source": [
        "items=[n for n in input().split('-')]\n",
        "items.sort()\n",
        "print('-'.join(items))"
      ],
      "metadata": {
        "colab": {
          "base_uri": "https://localhost:8080/"
        },
        "id": "aTUlEiJxdT0A",
        "outputId": "2a94dd11-2684-4fe9-d3d9-22d057a938ca"
      },
      "execution_count": 27,
      "outputs": [
        {
          "output_type": "stream",
          "name": "stdout",
          "text": [
            "made in china\n",
            "made in china\n"
          ]
        }
      ]
    },
    {
      "cell_type": "code",
      "source": [
        "def printValues():\n",
        "\tl = list()\n",
        "\tfor i in range(1,21):\n",
        "\t\tl.append(i**2)\n",
        "\tprint(l)\n",
        "\t\t\n",
        "printValues()"
      ],
      "metadata": {
        "colab": {
          "base_uri": "https://localhost:8080/"
        },
        "id": "Bl3iqCNsdi4A",
        "outputId": "a020d486-2365-464b-d091-b21b117e8df5"
      },
      "execution_count": 28,
      "outputs": [
        {
          "output_type": "stream",
          "name": "stdout",
          "text": [
            "[1, 4, 9, 16, 25, 36, 49, 64, 81, 100, 121, 144, 169, 196, 225, 256, 289, 324, 361, 400]\n"
          ]
        }
      ]
    },
    {
      "cell_type": "code",
      "source": [
        "def make_bold(fn):\n",
        "    def wrapped():\n",
        "        return \"<b>\" + fn() + \"</b>\"\n",
        "    return wrapped\n",
        "\n",
        "def make_italic(fn):\n",
        "    def wrapped():\n",
        "        return \"<i>\" + fn() + \"</i>\"\n",
        "    return wrapped\n",
        "\n",
        "def make_underline(fn):\n",
        "    def wrapped():\n",
        "        return \"<u>\" + fn() + \"</u>\"\n",
        "    return wrapped\n",
        "@make_bold\n",
        "@make_italic\n",
        "@make_underline\n",
        "def hello():\n",
        "    return \"hello world\"\n",
        "print(hello()) ## returns \"<b><i><u>hello world</u></i></b>\""
      ],
      "metadata": {
        "colab": {
          "base_uri": "https://localhost:8080/"
        },
        "id": "k9Fb-k3xdkjR",
        "outputId": "36abb006-07d2-46d2-bb75-74f07b803239"
      },
      "execution_count": 29,
      "outputs": [
        {
          "output_type": "stream",
          "name": "stdout",
          "text": [
            "<b><i><u>hello world</u></i></b>\n"
          ]
        }
      ]
    },
    {
      "cell_type": "code",
      "source": [
        "mycode = 'print(\"hello world\")'\n",
        "code = \"\"\"\n",
        "def mutiply(x,y):\n",
        "    return x*y\n",
        "\n",
        "print('Multiply of 2 and 3 is: ',mutiply(2,3))\n",
        "\"\"\"\n",
        "exec(mycode)\n",
        "exec(code)"
      ],
      "metadata": {
        "colab": {
          "base_uri": "https://localhost:8080/"
        },
        "id": "-vAWXI6Idulg",
        "outputId": "770aa60a-92de-410d-d900-67d84e278052"
      },
      "execution_count": 30,
      "outputs": [
        {
          "output_type": "stream",
          "name": "stdout",
          "text": [
            "hello world\n",
            "Multiply of 2 and 3 is:  6\n"
          ]
        }
      ]
    },
    {
      "cell_type": "code",
      "source": [
        "def test(a):\n",
        "        def add(b):\n",
        "                nonlocal a\n",
        "                a += 1\n",
        "                return a+b\n",
        "        return add\n",
        "func= test(4)\n",
        "print(func(4))"
      ],
      "metadata": {
        "colab": {
          "base_uri": "https://localhost:8080/"
        },
        "id": "L-kEmTXbeLIY",
        "outputId": "ecdffed8-1019-4931-a403-597d3c915f6b"
      },
      "execution_count": 31,
      "outputs": [
        {
          "output_type": "stream",
          "name": "stdout",
          "text": [
            "9\n"
          ]
        }
      ]
    },
    {
      "cell_type": "code",
      "source": [
        "def abc():\n",
        "    x = 1\n",
        "    y = 2\n",
        "    str1= \"w3resource\"\n",
        "    print(\"Python Exercises\")\n",
        "\n",
        "print(abc.__code__.co_nlocals)"
      ],
      "metadata": {
        "colab": {
          "base_uri": "https://localhost:8080/"
        },
        "id": "6u17JvH-eMqP",
        "outputId": "b9b6f130-b875-47b1-bb36-cbeed74ff050"
      },
      "execution_count": 32,
      "outputs": [
        {
          "output_type": "stream",
          "name": "stdout",
          "text": [
            "3\n"
          ]
        }
      ]
    },
    {
      "cell_type": "code",
      "source": [
        "from time import sleep\n",
        "import math\n",
        "def delay(fn, ms, *args):\n",
        "  sleep(ms / 1000)\n",
        "  return fn(*args)\n",
        "print(\"Square root after specific miliseconds:\") \n",
        "print(delay(lambda x: math.sqrt(x), 100, 16))\n",
        "print(delay(lambda x: math.sqrt(x), 1000, 100))\n",
        "print(delay(lambda x: math.sqrt(x), 2000, 25100))"
      ],
      "metadata": {
        "id": "u6PXSc62eX-f",
        "outputId": "db0a7624-697e-4ee8-b73e-cb1002fd0313",
        "colab": {
          "base_uri": "https://localhost:8080/"
        }
      },
      "execution_count": 33,
      "outputs": [
        {
          "output_type": "stream",
          "name": "stdout",
          "text": [
            "Square root after specific miliseconds:\n",
            "4.0\n",
            "10.0\n",
            "158.42979517754858\n"
          ]
        }
      ]
    },
    {
      "cell_type": "code",
      "source": [
        "print(\"Choice 1:add,2:sub,3:div,4:multi,5:exit\")\n",
        "c=int(input(\"Enter the choice:\"))\n",
        "if(c==1):\n",
        "  print(\"Add\")\n",
        "  A=int(input(\"Enter the value of a:\"))\n",
        "  B=int(input(\"Enter the value of b:\"))\n",
        "  D=A+B\n",
        "  print(\"the result of a+b =\",D)\n",
        "elif(c==2):\n",
        "  print(\"sub\")\n",
        "  A=int(input(\"Enter the value of a:\"))\n",
        "  B=int(input(\"Enter the value of b:\"))\n",
        "  D=A-B\n",
        "  print(\"the result of a+b =\",D)\n",
        "elif(c==3):\n",
        "  print(\"div\")\n",
        "  A=int(input(\"Enter the value of a:\"))\n",
        "  B=int(input(\"Enter the value of b:\"))\n",
        "  D=A/B\n",
        "  print(\"the result of a+b =\",D)\n",
        "elif(c==4):\n",
        "  print(\"multi\")\n",
        "  A=int(input(\"Enter the value of a:\"))\n",
        "  B=int(input(\"Enter the value of b:\"))\n",
        "  D=A*B\n",
        "  print(\"the result of a+b =\",D)\n",
        "elif(c==5):\n",
        "  print(\"choose the correct opertion\" )"
      ],
      "metadata": {
        "id": "ofKO-tTEJ8lQ",
        "colab": {
          "base_uri": "https://localhost:8080/"
        },
        "outputId": "a37ca070-d930-4e13-c8c5-9193f0200bdb"
      },
      "execution_count": 36,
      "outputs": [
        {
          "output_type": "stream",
          "name": "stdout",
          "text": [
            "Choice 1:add,2:sub,3:div,4:multi,5:exit\n",
            "Enter the choice:4\n",
            "multi\n",
            "Enter the value of a:10\n",
            "Enter the value of b:7\n",
            "the result of a+b = 70\n"
          ]
        }
      ]
    },
    {
      "cell_type": "code",
      "source": [
        ""
      ],
      "metadata": {
        "id": "iO8Pt3bZRI87"
      },
      "execution_count": null,
      "outputs": []
    }
  ]
}