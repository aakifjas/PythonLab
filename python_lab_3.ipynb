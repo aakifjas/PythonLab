{
  "nbformat": 4,
  "nbformat_minor": 0,
  "metadata": {
    "colab": {
      "name": "python lab 3",
      "provenance": [],
      "collapsed_sections": [],
      "toc_visible": true,
      "include_colab_link": true
    },
    "kernelspec": {
      "name": "python3",
      "display_name": "Python 3"
    },
    "language_info": {
      "name": "python"
    }
  },
  "cells": [
    {
      "cell_type": "markdown",
      "metadata": {
        "id": "view-in-github",
        "colab_type": "text"
      },
      "source": [
        "<a href=\"https://colab.research.google.com/github/aakifjas/PythonLab/blob/main/python_lab_3.ipynb\" target=\"_parent\"><img src=\"https://colab.research.google.com/assets/colab-badge.svg\" alt=\"Open In Colab\"/></a>"
      ]
    },
    {
      "cell_type": "code",
      "execution_count": 1,
      "metadata": {
        "colab": {
          "base_uri": "https://localhost:8080/"
        },
        "id": "YHOSDvG8vvKk",
        "outputId": "6a22fb0f-c4da-4f04-c5a5-d9809ed08a6f"
      },
      "outputs": [
        {
          "output_type": "stream",
          "name": "stdout",
          "text": [
            "please enter first no :  23\n",
            "please enter second no :  44\n",
            "23 + 44 = 67\n"
          ]
        }
      ],
      "source": [
        "v1 = eval(input('please enter first no :  '))\n",
        "v2 = eval(input('please enter second no :  '))\n",
        "sum = v1+v2\n",
        "print(v1,'+',v2,'=',sum)"
      ]
    },
    {
      "cell_type": "code",
      "source": [
        "x = 20\n",
        "y = 30\n",
        "x+y"
      ],
      "metadata": {
        "colab": {
          "base_uri": "https://localhost:8080/"
        },
        "id": "hr8fNLuQwez9",
        "outputId": "11ebb73c-1cd2-4e3a-e7db-d75b56811b5c"
      },
      "execution_count": null,
      "outputs": [
        {
          "output_type": "execute_result",
          "data": {
            "text/plain": [
              "50"
            ]
          },
          "metadata": {},
          "execution_count": 1
        }
      ]
    },
    {
      "cell_type": "code",
      "source": [
        "x = '20'\n",
        "y = '30'\n",
        "x+y"
      ],
      "metadata": {
        "colab": {
          "base_uri": "https://localhost:8080/",
          "height": 35
        },
        "id": "OICmZX2XwqDn",
        "outputId": "5b40b3fb-dac2-47a2-f93c-dfdb59d0c601"
      },
      "execution_count": null,
      "outputs": [
        {
          "output_type": "execute_result",
          "data": {
            "text/plain": [
              "'2030'"
            ],
            "application/vnd.google.colaboratory.intrinsic+json": {
              "type": "string"
            }
          },
          "metadata": {},
          "execution_count": 4
        }
      ]
    },
    {
      "cell_type": "code",
      "source": [
        "x = 20\n",
        "y = 30\n",
        "x-y"
      ],
      "metadata": {
        "colab": {
          "base_uri": "https://localhost:8080/"
        },
        "id": "QHU5Mj2dwxVg",
        "outputId": "c608d77a-65af-4051-a9b7-5e97c6ad475d"
      },
      "execution_count": null,
      "outputs": [
        {
          "output_type": "execute_result",
          "data": {
            "text/plain": [
              "-10"
            ]
          },
          "metadata": {},
          "execution_count": 5
        }
      ]
    },
    {
      "cell_type": "code",
      "source": [
        "x = 20\n",
        "y = 30\n",
        "x*y"
      ],
      "metadata": {
        "colab": {
          "base_uri": "https://localhost:8080/"
        },
        "id": "5OU4Y3ydxKMW",
        "outputId": "65814160-c0bc-4d8a-83da-c9b60677461c"
      },
      "execution_count": null,
      "outputs": [
        {
          "output_type": "execute_result",
          "data": {
            "text/plain": [
              "600"
            ]
          },
          "metadata": {},
          "execution_count": 6
        }
      ]
    },
    {
      "cell_type": "code",
      "source": [
        "x = '20'\n",
        "y = 30\n",
        "x*y"
      ],
      "metadata": {
        "colab": {
          "base_uri": "https://localhost:8080/",
          "height": 35
        },
        "id": "MijTNwXkxSkH",
        "outputId": "a84a5e73-9f1a-43ba-e157-019d3b95b58e"
      },
      "execution_count": null,
      "outputs": [
        {
          "output_type": "execute_result",
          "data": {
            "text/plain": [
              "'202020202020202020202020202020202020202020202020202020202020'"
            ],
            "application/vnd.google.colaboratory.intrinsic+json": {
              "type": "string"
            }
          },
          "metadata": {},
          "execution_count": 7
        }
      ]
    },
    {
      "cell_type": "code",
      "source": [
        "x = 20\n",
        "y = '30'\n",
        "x*y"
      ],
      "metadata": {
        "colab": {
          "base_uri": "https://localhost:8080/",
          "height": 35
        },
        "id": "EWgacbpDxdhR",
        "outputId": "08e13e95-910c-4fe3-c606-0f51869ed06d"
      },
      "execution_count": null,
      "outputs": [
        {
          "output_type": "execute_result",
          "data": {
            "text/plain": [
              "'3030303030303030303030303030303030303030'"
            ],
            "application/vnd.google.colaboratory.intrinsic+json": {
              "type": "string"
            }
          },
          "metadata": {},
          "execution_count": 8
        }
      ]
    },
    {
      "cell_type": "code",
      "source": [
        "x = 20\n",
        "y = 30\n",
        "x/y"
      ],
      "metadata": {
        "colab": {
          "base_uri": "https://localhost:8080/"
        },
        "id": "zptmPCE6xjHg",
        "outputId": "213a17a1-539b-4dda-a189-bef12d994f16"
      },
      "execution_count": null,
      "outputs": [
        {
          "output_type": "execute_result",
          "data": {
            "text/plain": [
              "0.6666666666666666"
            ]
          },
          "metadata": {},
          "execution_count": 9
        }
      ]
    },
    {
      "cell_type": "code",
      "source": [
        "x = 20\n",
        "y = 30\n",
        "x//y"
      ],
      "metadata": {
        "colab": {
          "base_uri": "https://localhost:8080/"
        },
        "id": "C16W1yOtxqFH",
        "outputId": "66948952-78b1-485d-a651-01be81c75f20"
      },
      "execution_count": null,
      "outputs": [
        {
          "output_type": "execute_result",
          "data": {
            "text/plain": [
              "0"
            ]
          },
          "metadata": {},
          "execution_count": 10
        }
      ]
    },
    {
      "cell_type": "code",
      "source": [
        "x = 20\n",
        "y = 30\n",
        "x%y"
      ],
      "metadata": {
        "colab": {
          "base_uri": "https://localhost:8080/"
        },
        "id": "FstzKcvUxtdE",
        "outputId": "6fd6365a-fbbb-4ace-ca47-6889152f24ef"
      },
      "execution_count": null,
      "outputs": [
        {
          "output_type": "execute_result",
          "data": {
            "text/plain": [
              "20"
            ]
          },
          "metadata": {},
          "execution_count": 11
        }
      ]
    },
    {
      "cell_type": "code",
      "source": [
        "x = 20\n",
        "y = 30\n",
        "x**y"
      ],
      "metadata": {
        "colab": {
          "base_uri": "https://localhost:8080/"
        },
        "id": "LIStUN4tx446",
        "outputId": "161fce6f-e2b9-49a6-da67-7a03f6089ad3"
      },
      "execution_count": null,
      "outputs": [
        {
          "output_type": "execute_result",
          "data": {
            "text/plain": [
              "1073741824000000000000000000000000000000"
            ]
          },
          "metadata": {},
          "execution_count": 12
        }
      ]
    },
    {
      "cell_type": "code",
      "source": [
        "x = 3\n",
        "x = x + 3"
      ],
      "metadata": {
        "id": "LAeE11wWx_YD"
      },
      "execution_count": null,
      "outputs": []
    },
    {
      "cell_type": "code",
      "source": [
        "x"
      ],
      "metadata": {
        "colab": {
          "base_uri": "https://localhost:8080/"
        },
        "id": "4ZlQLNf92MEZ",
        "outputId": "9dc3085c-72d9-4655-ed4f-a03da4656b18"
      },
      "execution_count": null,
      "outputs": [
        {
          "output_type": "execute_result",
          "data": {
            "text/plain": [
              "6"
            ]
          },
          "metadata": {},
          "execution_count": 14
        }
      ]
    },
    {
      "cell_type": "code",
      "source": [
        "x*2"
      ],
      "metadata": {
        "colab": {
          "base_uri": "https://localhost:8080/"
        },
        "id": "apM1DcFk2PFK",
        "outputId": "c9cd37a8-d6f0-4fc8-cd20-f81ee31a35bd"
      },
      "execution_count": null,
      "outputs": [
        {
          "output_type": "execute_result",
          "data": {
            "text/plain": [
              "12"
            ]
          },
          "metadata": {},
          "execution_count": 16
        }
      ]
    },
    {
      "cell_type": "code",
      "source": [
        "x = 20\n",
        "y = 10\n",
        "print('x+y=', x+y)\n",
        "print('x-y=', x-y)\n",
        "print('x*y=', x*y)\n",
        "print('x/y=', x/y)\n",
        "print('x//y=', x//y)\n",
        "print('x**y=', x**y)"
      ],
      "metadata": {
        "colab": {
          "base_uri": "https://localhost:8080/"
        },
        "id": "GwF51_C32VwM",
        "outputId": "1ea46210-2169-45f2-8337-863041cc86fc"
      },
      "execution_count": null,
      "outputs": [
        {
          "output_type": "stream",
          "name": "stdout",
          "text": [
            "x+y= 30\n",
            "x-y= 10\n",
            "x*y= 200\n",
            "x/y= 2.0\n",
            "x//y= 2\n",
            "x**y= 10240000000000\n"
          ]
        }
      ]
    },
    {
      "cell_type": "code",
      "source": [
        "x = 20 + 20.5\n",
        "print('+ operation is evaluated= ',x)"
      ],
      "metadata": {
        "colab": {
          "base_uri": "https://localhost:8080/"
        },
        "id": "wkaHS4nW25FN",
        "outputId": "d2325c99-99a0-4cd0-bb8a-33929e1b0ae6"
      },
      "execution_count": null,
      "outputs": [
        {
          "output_type": "stream",
          "name": "stdout",
          "text": [
            "+ operation is evaluated=  40.5\n"
          ]
        }
      ]
    },
    {
      "cell_type": "code",
      "source": [
        "x = 200 + 20.0*5\n",
        "print('+ operation is evaluated= ',x)"
      ],
      "metadata": {
        "colab": {
          "base_uri": "https://localhost:8080/"
        },
        "id": "xQFSmnpZ3Q-o",
        "outputId": "a8b75e67-3b57-4079-a8d8-8b6273359d74"
      },
      "execution_count": null,
      "outputs": [
        {
          "output_type": "stream",
          "name": "stdout",
          "text": [
            "+ operation is evaluated=  300.0\n"
          ]
        }
      ]
    },
    {
      "cell_type": "code",
      "source": [
        "x = 20 + 20/2*5\n",
        "print('+ operation is evaluated= ',x)"
      ],
      "metadata": {
        "colab": {
          "base_uri": "https://localhost:8080/"
        },
        "id": "0i78BVbO3isg",
        "outputId": "4bcfacf9-c4c7-4390-a677-48d655214d26"
      },
      "execution_count": null,
      "outputs": [
        {
          "output_type": "stream",
          "name": "stdout",
          "text": [
            "+ operation is evaluated=  70.0\n"
          ]
        }
      ]
    },
    {
      "cell_type": "code",
      "source": [
        "x = 100 * 5 + (10 % 2)**1\n",
        "print(x)"
      ],
      "metadata": {
        "colab": {
          "base_uri": "https://localhost:8080/"
        },
        "id": "bLRTznLf3tJT",
        "outputId": "d83730ab-5ae8-40f9-db3c-6c1e2609cc2e"
      },
      "execution_count": null,
      "outputs": [
        {
          "output_type": "stream",
          "name": "stdout",
          "text": [
            "500\n"
          ]
        }
      ]
    },
    {
      "cell_type": "code",
      "source": [
        "x = 10\n",
        "x += 1\n",
        "print(x)"
      ],
      "metadata": {
        "colab": {
          "base_uri": "https://localhost:8080/"
        },
        "id": "ksAjTk7d37Mq",
        "outputId": "5986d63d-a6c7-4a59-a804-05513269134e"
      },
      "execution_count": null,
      "outputs": [
        {
          "output_type": "stream",
          "name": "stdout",
          "text": [
            "11\n"
          ]
        }
      ]
    },
    {
      "cell_type": "code",
      "source": [
        "x = 10\n",
        "x -= 1\n",
        "print(x)"
      ],
      "metadata": {
        "colab": {
          "base_uri": "https://localhost:8080/"
        },
        "id": "ZTmdPzYj4ZfL",
        "outputId": "b2154e3d-dc80-452d-8dd4-6e71555d41a7"
      },
      "execution_count": null,
      "outputs": [
        {
          "output_type": "stream",
          "name": "stdout",
          "text": [
            "9\n"
          ]
        }
      ]
    },
    {
      "cell_type": "code",
      "source": [
        "x = 10\n",
        "x *= 1\n",
        "print(x)"
      ],
      "metadata": {
        "colab": {
          "base_uri": "https://localhost:8080/"
        },
        "id": "0hr6VKfn4g4W",
        "outputId": "57b0e7a1-e203-4089-a879-bcdbc7355f35"
      },
      "execution_count": null,
      "outputs": [
        {
          "output_type": "stream",
          "name": "stdout",
          "text": [
            "10\n"
          ]
        }
      ]
    },
    {
      "cell_type": "code",
      "source": [
        "print('fibonacci series')\n",
        "n1 = input('enter the number:  ')\n",
        "n = int(n1)\n",
        "if (n>0):\n",
        "  f = 0\n",
        "  s = 1\n",
        "  i = 0\n",
        "  next = 0\n",
        "  while(1):\n",
        "    print('\\n\\n********************************************************')\n",
        "    for i in range (n+1):\n",
        "      if (i <= 1):\n",
        "        print(i)\n",
        "      else:\n",
        "        next = f+s\n",
        "        f = s\n",
        "        s = next\n",
        "        print(next)\n",
        "    i = i + 1\n",
        "    break\n",
        "else:\n",
        "  print('you have entered wrong number',  n )          "
      ],
      "metadata": {
        "id": "Wo1yz1_a4nnS",
        "colab": {
          "base_uri": "https://localhost:8080/"
        },
        "outputId": "0c06a599-60fa-49b4-d5a4-3e7adee60c44"
      },
      "execution_count": null,
      "outputs": [
        {
          "output_type": "stream",
          "name": "stdout",
          "text": [
            "fibonacci series\n",
            "enter the number:  16\n",
            "\n",
            "\n",
            "********************************************************\n",
            "0\n",
            "1\n",
            "1\n",
            "2\n",
            "3\n",
            "5\n",
            "8\n",
            "13\n",
            "21\n",
            "34\n",
            "55\n",
            "89\n",
            "144\n",
            "233\n",
            "377\n",
            "610\n",
            "987\n"
          ]
        }
      ]
    },
    {
      "cell_type": "code",
      "source": [
        "colors = ['red','blue','white']\n",
        "print(colors)"
      ],
      "metadata": {
        "colab": {
          "base_uri": "https://localhost:8080/"
        },
        "id": "ev5nhljLMUe4",
        "outputId": "44a92952-eabf-485b-a334-abe039b84afb"
      },
      "execution_count": null,
      "outputs": [
        {
          "output_type": "stream",
          "name": "stdout",
          "text": [
            "['red', 'blue', 'white']\n"
          ]
        }
      ]
    },
    {
      "cell_type": "code",
      "source": [
        "n1 = int(input('enter first number :  '))\n",
        "n2 = int(input('enter second number :  '))\n",
        "sumvalue = (n1-n2)\n",
        "print('the sum of the given numbers is' , sumvalue )"
      ],
      "metadata": {
        "colab": {
          "base_uri": "https://localhost:8080/"
        },
        "id": "1A4AZDgSMsDF",
        "outputId": "14b94f77-aa25-49bb-fbc9-df4423c39da6"
      },
      "execution_count": null,
      "outputs": [
        {
          "output_type": "stream",
          "name": "stdout",
          "text": [
            "enter first number :  30\n",
            "enter second number :  20\n",
            "the sum of the given numbers is 10\n"
          ]
        }
      ]
    },
    {
      "cell_type": "code",
      "source": [
        "x = 15\n",
        "y = 5\n",
        "print('x + y =' , x+y)\n",
        "print('x - y =' , x-y)\n",
        "print('x * y =' , x*y)\n",
        "print('x / y =' , x/y)\n",
        "print('x // y =' , x//y)\n",
        "print('x ** y =' , x**y)"
      ],
      "metadata": {
        "colab": {
          "base_uri": "https://localhost:8080/"
        },
        "id": "sPfjsoW_NpgE",
        "outputId": "a9c181d9-6f89-4e7d-ba84-bbcabca3917f"
      },
      "execution_count": null,
      "outputs": [
        {
          "output_type": "stream",
          "name": "stdout",
          "text": [
            "x + y = 20\n",
            "x - y = 10\n",
            "x * y = 75\n",
            "x / y = 3.0\n",
            "x // y = 3\n",
            "x ** y = 759375\n"
          ]
        }
      ]
    },
    {
      "cell_type": "code",
      "source": [
        "x = 10\n",
        "y = 12\n",
        "print('x > y is' , x>y)\n",
        "print('x < y is' , x<y)\n",
        "print('x == y is' , x==y)\n",
        "print('x != y is' , x!=y)\n",
        "print('x >= y is' , x>=y)\n",
        "print('x <= y is' , x<=y)"
      ],
      "metadata": {
        "colab": {
          "base_uri": "https://localhost:8080/"
        },
        "id": "IrDX5bSYOrB0",
        "outputId": "4bccf6a1-1058-4a18-dc6d-895a8828265a"
      },
      "execution_count": null,
      "outputs": [
        {
          "output_type": "stream",
          "name": "stdout",
          "text": [
            "x > y is False\n",
            "x < y is True\n",
            "x == y is False\n",
            "x != y is True\n",
            "x >= y is False\n",
            "x <= y is True\n"
          ]
        }
      ]
    },
    {
      "cell_type": "code",
      "source": [
        "x = True\n",
        "y = False\n",
        "print('x and y is' , x and y)\n",
        "print('x or y is' , x or y)\n",
        "print('not x is' , not x)"
      ],
      "metadata": {
        "colab": {
          "base_uri": "https://localhost:8080/"
        },
        "id": "TRzhF9dwP4nY",
        "outputId": "0d4faad5-fce1-4e25-c4ed-02f4fa0a5e0c"
      },
      "execution_count": null,
      "outputs": [
        {
          "output_type": "stream",
          "name": "stdout",
          "text": [
            "x and y is False\n",
            "x or y is True\n",
            "not x is False\n"
          ]
        }
      ]
    },
    {
      "cell_type": "code",
      "source": [
        "x1 = 5\n",
        "y1 = 5\n",
        "x2 = 'Hello'\n",
        "y2 = 'hello'\n",
        "x3 = [1,2,3]\n",
        "y3 = [1,2,3]\n",
        "print(x1 is not y1)\n",
        "print(x2 is y2)\n",
        "print(x3 is y3)"
      ],
      "metadata": {
        "colab": {
          "base_uri": "https://localhost:8080/"
        },
        "id": "GqpqnoifQfGs",
        "outputId": "41532999-852c-48d6-a01a-d207de6a1ecf"
      },
      "execution_count": null,
      "outputs": [
        {
          "output_type": "stream",
          "name": "stdout",
          "text": [
            "False\n",
            "False\n",
            "False\n"
          ]
        }
      ]
    },
    {
      "cell_type": "code",
      "source": [
        "x = 'Hello world'\n",
        "y = {1:'a' , 2:'b'}\n",
        "print('H' in x)\n",
        "print('hello' not in x)\n",
        "print(1 in y)\n",
        "print('a' in y)"
      ],
      "metadata": {
        "colab": {
          "base_uri": "https://localhost:8080/"
        },
        "id": "vwueJf5tRFpA",
        "outputId": "6010671d-e34a-444f-b134-281cbeaf6dc4"
      },
      "execution_count": null,
      "outputs": [
        {
          "output_type": "stream",
          "name": "stdout",
          "text": [
            "True\n",
            "True\n",
            "True\n",
            "False\n"
          ]
        }
      ]
    },
    {
      "cell_type": "code",
      "source": [
        "a = 10\n",
        "b = 4\n",
        "k = a&b\n",
        "print(k)"
      ],
      "metadata": {
        "colab": {
          "base_uri": "https://localhost:8080/"
        },
        "id": "U4BvC6rRRwG9",
        "outputId": "7f1a75ea-c6d4-4725-f48c-db357c37c590"
      },
      "execution_count": null,
      "outputs": [
        {
          "output_type": "stream",
          "name": "stdout",
          "text": [
            "0\n"
          ]
        }
      ]
    },
    {
      "cell_type": "code",
      "source": [
        "a = 10\n",
        "b = 4\n",
        "k = a | b\n",
        "print(k)\n"
      ],
      "metadata": {
        "colab": {
          "base_uri": "https://localhost:8080/"
        },
        "id": "wMxZEvx1R6p2",
        "outputId": "d986e183-1793-4f60-e950-21ceaed1af76"
      },
      "execution_count": null,
      "outputs": [
        {
          "output_type": "stream",
          "name": "stdout",
          "text": [
            "14\n"
          ]
        }
      ]
    },
    {
      "cell_type": "code",
      "source": [
        "a = 10\n",
        "b = 4\n",
        "print('~a =' , ~a)"
      ],
      "metadata": {
        "colab": {
          "base_uri": "https://localhost:8080/"
        },
        "id": "nDcFeU65SLS0",
        "outputId": "854efc25-27a5-4d5a-a645-ec991c325989"
      },
      "execution_count": null,
      "outputs": [
        {
          "output_type": "stream",
          "name": "stdout",
          "text": [
            "~a = -11\n"
          ]
        }
      ]
    },
    {
      "cell_type": "code",
      "source": [
        "a = 10\n",
        "b = -10\n",
        "print('a >> 1 =' , a >> 1)\n",
        "print('b >> 1 =' , b >> 1)"
      ],
      "metadata": {
        "colab": {
          "base_uri": "https://localhost:8080/"
        },
        "id": "CGgHeSouSlsI",
        "outputId": "ce2f58cb-c5ee-43ea-d2f5-1ff94f1b4c62"
      },
      "execution_count": null,
      "outputs": [
        {
          "output_type": "stream",
          "name": "stdout",
          "text": [
            "a >> 1 = 5\n",
            "b >> 1 = -5\n"
          ]
        }
      ]
    },
    {
      "cell_type": "code",
      "source": [
        ""
      ],
      "metadata": {
        "id": "v2MeJCKTTBkW"
      },
      "execution_count": null,
      "outputs": []
    }
  ]
}