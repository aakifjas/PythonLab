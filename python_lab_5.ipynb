{
  "nbformat": 4,
  "nbformat_minor": 0,
  "metadata": {
    "colab": {
      "name": "python lab 5",
      "provenance": [],
      "collapsed_sections": [],
      "include_colab_link": true
    },
    "kernelspec": {
      "name": "python3",
      "display_name": "Python 3"
    },
    "language_info": {
      "name": "python"
    }
  },
  "cells": [
    {
      "cell_type": "markdown",
      "metadata": {
        "id": "view-in-github",
        "colab_type": "text"
      },
      "source": [
        "<a href=\"https://colab.research.google.com/github/aakifjas/PythonLab/blob/main/python_lab_5.ipynb\" target=\"_parent\"><img src=\"https://colab.research.google.com/assets/colab-badge.svg\" alt=\"Open In Colab\"/></a>"
      ]
    },
    {
      "cell_type": "code",
      "execution_count": null,
      "metadata": {
        "id": "t907X379A9xt"
      },
      "outputs": [],
      "source": [
        "def printme( str ):\n",
        "  'this prints a passed string into this function'\n",
        "  print (str) \n",
        "  return;"
      ]
    },
    {
      "cell_type": "code",
      "source": [
        "def printme( str ):\n",
        "  'this prints a passed string into this function'\n",
        "  print (str) \n",
        "  return;\n",
        "\n",
        "printme(\" I'm first call to user defined function!\" )\n",
        "printme(\"again second call to the same function\")\n"
      ],
      "metadata": {
        "colab": {
          "base_uri": "https://localhost:8080/"
        },
        "id": "KE0CpPakG-7e",
        "outputId": "38da97a6-cdbe-4dff-c359-af9b992be85c"
      },
      "execution_count": null,
      "outputs": [
        {
          "output_type": "stream",
          "name": "stdout",
          "text": [
            " I'm first call to user defined function!\n",
            "again second call to the same function\n"
          ]
        }
      ]
    },
    {
      "cell_type": "code",
      "source": [
        "def changeme( mylist ):\n",
        "  'this changes a passed list into this function'\n",
        "  mylist.append([1,2,3,4]);\n",
        "  print('values inside the function:  ', mylist)\n",
        "  return\n",
        "\n",
        "mylist = [10,20,30];\n",
        "changeme( mylist );\n",
        "print('values outside the function: ',mylist  )"
      ],
      "metadata": {
        "colab": {
          "base_uri": "https://localhost:8080/"
        },
        "id": "YwWydMhPII53",
        "outputId": "57d02e4b-c612-4b27-ca6f-82ca26af7775"
      },
      "execution_count": null,
      "outputs": [
        {
          "output_type": "stream",
          "name": "stdout",
          "text": [
            "values inside the function:   [10, 20, 30, [1, 2, 3, 4]]\n",
            "values outside the function:  [10, 20, 30, [1, 2, 3, 4]]\n"
          ]
        }
      ]
    },
    {
      "cell_type": "code",
      "source": [
        "def changeme( mylist ):\n",
        "  'this changes a passed list into this function'\n",
        "  mylist = [1,2,3,4];\n",
        "  print('values inside the function: ',mylist)\n",
        "  return\n",
        "\n",
        "\n",
        "mylist = [10,20,30];\n",
        "changeme( mylist );\n",
        "print('values outside the function: ',mylist)"
      ],
      "metadata": {
        "colab": {
          "base_uri": "https://localhost:8080/"
        },
        "id": "fkSYU1y4JQbJ",
        "outputId": "07945f63-b5c4-43ea-87be-2933d273b281"
      },
      "execution_count": null,
      "outputs": [
        {
          "output_type": "stream",
          "name": "stdout",
          "text": [
            "values inside the function:  [1, 2, 3, 4]\n",
            "values outside the function:  [10, 20, 30]\n"
          ]
        }
      ]
    },
    {
      "cell_type": "code",
      "source": [
        "def printme( str ):\n",
        "  'this prints a passed string into this function'\n",
        "  print (str) \n",
        "  return;"
      ],
      "metadata": {
        "id": "L4jH90WHLA1T"
      },
      "execution_count": null,
      "outputs": []
    },
    {
      "cell_type": "code",
      "source": [
        "def printme(str):\n",
        "  'this prints a passed string into this function'\n",
        "  print(str)\n",
        "  return;\n",
        "\n",
        "printme(str)"
      ],
      "metadata": {
        "colab": {
          "base_uri": "https://localhost:8080/"
        },
        "id": "ICZt-lJQLZGJ",
        "outputId": "181d7772-ea84-43dc-86e5-aa3adf7a29a8"
      },
      "execution_count": null,
      "outputs": [
        {
          "output_type": "stream",
          "name": "stdout",
          "text": [
            "<class 'str'>\n"
          ]
        }
      ]
    },
    {
      "cell_type": "code",
      "source": [
        "def printme(str):\n",
        "  'this prints a passed string into this function'\n",
        "  print (str)\n",
        "  return;\n",
        "\n",
        "printme(str = 'my string')\n"
      ],
      "metadata": {
        "colab": {
          "base_uri": "https://localhost:8080/"
        },
        "id": "uT_N0-XIMMWr",
        "outputId": "ed44d352-ac91-4d3f-e3c3-0a87179a3ac1"
      },
      "execution_count": null,
      "outputs": [
        {
          "output_type": "stream",
          "name": "stdout",
          "text": [
            "my string\n"
          ]
        }
      ]
    },
    {
      "cell_type": "code",
      "source": [
        "def printinfo( name , age ):\n",
        "  'this prints a passed info into this function'\n",
        "  print ('name: ',name)\n",
        "  print ('age:',age)\n",
        "  return;\n",
        "\n",
        "printinfo( age=50, name='asuna')  "
      ],
      "metadata": {
        "colab": {
          "base_uri": "https://localhost:8080/"
        },
        "id": "-jhinYl2M1Wb",
        "outputId": "2e27c7be-5bc3-4bbe-90d8-fbf2d6f1b78e"
      },
      "execution_count": null,
      "outputs": [
        {
          "output_type": "stream",
          "name": "stdout",
          "text": [
            "name:  asuna\n",
            "age: 50\n"
          ]
        }
      ]
    },
    {
      "cell_type": "code",
      "source": [
        "def printinfo( name , age = 30 ):\n",
        "  'this prints a passed info into this function'\n",
        "  print('name:',name )\n",
        "  print('age:',age)\n",
        "  return;\n",
        "\n",
        "printinfo( age = 35, name = 'asuna')\n",
        "printinfo( name = 'asuna')"
      ],
      "metadata": {
        "colab": {
          "base_uri": "https://localhost:8080/"
        },
        "id": "ZUybjV8YN4o6",
        "outputId": "10036b06-1b49-484b-8cbd-ea6900d17231"
      },
      "execution_count": null,
      "outputs": [
        {
          "output_type": "stream",
          "name": "stdout",
          "text": [
            "name: asuna\n",
            "age: 35\n",
            "name: asuna\n",
            "age: 30\n"
          ]
        }
      ]
    },
    {
      "cell_type": "code",
      "source": [
        "def printinfo( arg1, *vartuple  ):\n",
        "  'this prints a variable passed arguments'\n",
        "  print('output is:')\n",
        "  print(arg1)\n",
        "  for var in vartuple:\n",
        "    print(var)\n",
        "    return;\n",
        "\n",
        "printinfo( 10 )\n",
        "printinfo( 70, 60,50 )    "
      ],
      "metadata": {
        "colab": {
          "base_uri": "https://localhost:8080/"
        },
        "id": "yWuv-vk9PYKN",
        "outputId": "3efea75f-f6d3-4fbb-ca15-512253fa35e5"
      },
      "execution_count": null,
      "outputs": [
        {
          "output_type": "stream",
          "name": "stdout",
          "text": [
            "output is:\n",
            "10\n",
            "output is:\n",
            "70\n",
            "60\n"
          ]
        }
      ]
    },
    {
      "cell_type": "code",
      "source": [
        "total = 0;\n",
        "def sum( arg1 , arg2 ):\n",
        "  total = arg1 + arg2;\n",
        "  print('inside the function local total: ',total)\n",
        "  return total;\n",
        "\n",
        "sum(10,20);\n",
        "print('outside the function global total: ',total)"
      ],
      "metadata": {
        "colab": {
          "base_uri": "https://localhost:8080/"
        },
        "id": "0mNNmAQgQZwr",
        "outputId": "e40fa666-df3c-460b-d38d-63616d8fc98e"
      },
      "execution_count": null,
      "outputs": [
        {
          "output_type": "stream",
          "name": "stdout",
          "text": [
            "inside the function local total:  30\n",
            "outside the function global total:  0\n"
          ]
        }
      ]
    },
    {
      "cell_type": "code",
      "source": [
        "from math import sqrt\n",
        "max_value = eval(input('display primes up to what value? '))\n",
        "value = 2\n",
        "\n",
        "while value <= max_value:\n",
        "  is_prime = True\n",
        "  trial_factor = 2\n",
        "  root = sqrt(value)\n",
        "  while trial_factor <= root:\n",
        "    if value % trial_factor == 0:\n",
        "      is_prime = False;\n",
        "      break\n",
        "    trial_factor += 1\n",
        "  if is_prime:\n",
        "    print(value, end='')\n",
        "  value += 1\n",
        "\n",
        "print()        \n"
      ],
      "metadata": {
        "colab": {
          "base_uri": "https://localhost:8080/"
        },
        "id": "dpvBP6EaRPPv",
        "outputId": "071ffd2f-ca7d-416d-f78f-5c6a20d0a6d4"
      },
      "execution_count": null,
      "outputs": [
        {
          "output_type": "stream",
          "name": "stdout",
          "text": [
            "display primes up to what value? 5\n",
            "235\n"
          ]
        }
      ]
    },
    {
      "cell_type": "code",
      "source": [
        "from time import clock\n",
        "\n",
        "print('enter your name: ',end='')\n",
        "start_time = clock()\n",
        "name = input()\n",
        "elapsed = clock() - start_time\n",
        "print(name, 'it took you ', elapsed, 'seconds to respond')\n"
      ],
      "metadata": {
        "colab": {
          "base_uri": "https://localhost:8080/"
        },
        "id": "_IPlLhlITsR1",
        "outputId": "fa9e0195-876a-4fac-80b8-50f0f3f203b2"
      },
      "execution_count": null,
      "outputs": [
        {
          "output_type": "stream",
          "name": "stderr",
          "text": [
            "/usr/local/lib/python3.7/dist-packages/ipykernel_launcher.py:4: DeprecationWarning: time.clock has been deprecated in Python 3.3 and will be removed from Python 3.8: use time.perf_counter or time.process_time instead\n",
            "  after removing the cwd from sys.path.\n"
          ]
        },
        {
          "output_type": "stream",
          "name": "stdout",
          "text": [
            "enter your name: astha\n",
            "astha it took you  0.03529999999999944 seconds to respond\n"
          ]
        },
        {
          "output_type": "stream",
          "name": "stderr",
          "text": [
            "/usr/local/lib/python3.7/dist-packages/ipykernel_launcher.py:6: DeprecationWarning: time.clock has been deprecated in Python 3.3 and will be removed from Python 3.8: use time.perf_counter or time.process_time instead\n",
            "  \n"
          ]
        }
      ]
    },
    {
      "cell_type": "code",
      "source": [
        "from time import clock\n",
        "\n",
        "max_value = 10000\n",
        "count = 0\n",
        "start_time = clock()\n",
        "for value in range(2, max_value + 1):\n",
        "  is_prime = True\n",
        "  for trial_factor in range(2, value):\n",
        "    if value % trial_factor == 0:\n",
        "      is_prime = False\n",
        "      break\n",
        "  if is_prime:\n",
        "    count += 1\n",
        "print()\n",
        "elapsed = clock() - start_time\n",
        "print('count: ', 'elapsed time: ', elapsed, 'sec')        "
      ],
      "metadata": {
        "colab": {
          "base_uri": "https://localhost:8080/"
        },
        "id": "fdghdJXhU29R",
        "outputId": "fb924c19-fbc1-4375-d52e-3cd5704a943e"
      },
      "execution_count": null,
      "outputs": [
        {
          "output_type": "stream",
          "name": "stderr",
          "text": [
            "/usr/local/lib/python3.7/dist-packages/ipykernel_launcher.py:5: DeprecationWarning: time.clock has been deprecated in Python 3.3 and will be removed from Python 3.8: use time.perf_counter or time.process_time instead\n",
            "  \"\"\"\n"
          ]
        },
        {
          "output_type": "stream",
          "name": "stdout",
          "text": [
            "\n",
            "count:  elapsed time:  0.6662300000000023 sec\n"
          ]
        },
        {
          "output_type": "stream",
          "name": "stderr",
          "text": [
            "/usr/local/lib/python3.7/dist-packages/ipykernel_launcher.py:15: DeprecationWarning: time.clock has been deprecated in Python 3.3 and will be removed from Python 3.8: use time.perf_counter or time.process_time instead\n",
            "  from ipykernel import kernelapp as app\n"
          ]
        }
      ]
    },
    {
      "cell_type": "code",
      "source": [
        "from time import sleep\n",
        "\n",
        "for count in range(10,-1,-1):\n",
        "  print(count)\n",
        "  sleep(1)"
      ],
      "metadata": {
        "colab": {
          "base_uri": "https://localhost:8080/"
        },
        "id": "vwAxjaRnWRG9",
        "outputId": "e18325e8-8b61-4c09-f018-455a276fce0a"
      },
      "execution_count": null,
      "outputs": [
        {
          "output_type": "stream",
          "name": "stdout",
          "text": [
            "10\n",
            "9\n",
            "8\n",
            "7\n",
            "6\n",
            "5\n",
            "4\n",
            "3\n",
            "2\n",
            "1\n",
            "0\n"
          ]
        }
      ]
    },
    {
      "cell_type": "code",
      "source": [
        "from random import randrange , seed\n",
        "\n",
        "seed (23)\n",
        "for i in range (0,100):\n",
        "  print(randrange(1,1000))\n",
        "print()  "
      ],
      "metadata": {
        "colab": {
          "base_uri": "https://localhost:8080/"
        },
        "id": "ZOeNwhELWn2N",
        "outputId": "b3250255-4889-43dc-a71d-127b5ec2b9b9"
      },
      "execution_count": null,
      "outputs": [
        {
          "output_type": "stream",
          "name": "stdout",
          "text": [
            "948\n",
            "799\n",
            "972\n",
            "297\n",
            "914\n",
            "850\n",
            "86\n",
            "18\n",
            "607\n",
            "315\n",
            "434\n",
            "389\n",
            "543\n",
            "367\n",
            "134\n",
            "744\n",
            "197\n",
            "274\n",
            "456\n",
            "15\n",
            "227\n",
            "636\n",
            "466\n",
            "924\n",
            "26\n",
            "109\n",
            "88\n",
            "728\n",
            "511\n",
            "432\n",
            "21\n",
            "525\n",
            "643\n",
            "752\n",
            "442\n",
            "368\n",
            "790\n",
            "59\n",
            "211\n",
            "802\n",
            "37\n",
            "604\n",
            "378\n",
            "674\n",
            "177\n",
            "636\n",
            "222\n",
            "995\n",
            "753\n",
            "372\n",
            "580\n",
            "779\n",
            "881\n",
            "378\n",
            "992\n",
            "586\n",
            "289\n",
            "677\n",
            "999\n",
            "322\n",
            "587\n",
            "88\n",
            "834\n",
            "486\n",
            "182\n",
            "736\n",
            "495\n",
            "605\n",
            "811\n",
            "459\n",
            "692\n",
            "658\n",
            "168\n",
            "187\n",
            "819\n",
            "183\n",
            "547\n",
            "332\n",
            "690\n",
            "836\n",
            "533\n",
            "201\n",
            "597\n",
            "118\n",
            "85\n",
            "101\n",
            "437\n",
            "40\n",
            "582\n",
            "283\n",
            "963\n",
            "587\n",
            "288\n",
            "841\n",
            "605\n",
            "339\n",
            "112\n",
            "379\n",
            "922\n",
            "296\n",
            "\n"
          ]
        }
      ]
    },
    {
      "cell_type": "code",
      "source": [
        "from random import randrange\n",
        "for i in range(0,3):\n",
        "  value = randrange(1,6)\n",
        "  print('+-------------+')\n",
        "  if value == 1:\n",
        "    print('|             |')\n",
        "    print('|      *      |')\n",
        "    print('|             |')\n",
        "  elif value == 2:\n",
        "    print('|*            |')\n",
        "    print('|             |')\n",
        "    print('|            *|')\n",
        "  elif value == 3:\n",
        "    print('|            *|')\n",
        "    print('|      *      |')\n",
        "    print('|*            |')\n",
        "  elif value == 4:\n",
        "    print('|*           *|')\n",
        "    print('|             |')\n",
        "    print('|*           *|')   \n",
        "  elif value == 5:\n",
        "    print('|*           *|')\n",
        "    print('|      *      |')\n",
        "    print('|*           *|')\n",
        "\n",
        "print('+-------------+')"
      ],
      "metadata": {
        "colab": {
          "base_uri": "https://localhost:8080/"
        },
        "id": "LduaBL6hXRQf",
        "outputId": "6ad90566-3be4-4f68-f200-b910d25d8dbf"
      },
      "execution_count": null,
      "outputs": [
        {
          "output_type": "stream",
          "name": "stdout",
          "text": [
            "+-------------+\n",
            "|             |\n",
            "|      *      |\n",
            "|             |\n",
            "+-------------+\n",
            "|*           *|\n",
            "|             |\n",
            "|*           *|\n",
            "+-------------+\n",
            "|*            |\n",
            "|             |\n",
            "|            *|\n",
            "+-------------+\n"
          ]
        }
      ]
    },
    {
      "cell_type": "code",
      "source": [
        "def gcd (m,n):\n",
        "  min = m if m < n else n\n",
        "  largestfactor = 1\n",
        "  for i in range (1, min + 1):\n",
        "    if m % i == 0 and n % i == 0:\n",
        "      largestfactor = i\n",
        "  return largestfactor\n",
        "\n",
        "def get_int():\n",
        "  return int (input('please enter an integer: ')) \n",
        "def main ():\n",
        "  n1 = get_int()\n",
        "  n2 = get_int()\n",
        "  print('gcd(', n1, ',' ,  n2 , ') = ' , gcd(n1,n2) , sep = '')  \n",
        "main()  "
      ],
      "metadata": {
        "colab": {
          "base_uri": "https://localhost:8080/"
        },
        "id": "5R8oh9XhZPTa",
        "outputId": "2688468d-5c54-4390-fcce-bbfbe8c1b95b"
      },
      "execution_count": null,
      "outputs": [
        {
          "output_type": "stream",
          "name": "stdout",
          "text": [
            "please enter an integer: 7\n",
            "please enter an integer: 5\n",
            "gcd(7,5) = 1\n"
          ]
        }
      ]
    },
    {
      "cell_type": "code",
      "source": [
        "def increment (x):\n",
        "  print('beginning execution of increment, x= ',  x )\n",
        "  x += 1\n",
        "  print('ending execution of increment, x= ', x )\n",
        "\n",
        "def main():\n",
        "  x = 5\n",
        "  print('before increment, x=', x )\n",
        "  increment(x)\n",
        "  print('after increment, x=', x ) \n",
        "  \n",
        "main()"
      ],
      "metadata": {
        "colab": {
          "base_uri": "https://localhost:8080/"
        },
        "id": "LEhyhMKzb8hn",
        "outputId": "545405b5-8700-42f7-dcc5-d751474cca77"
      },
      "execution_count": null,
      "outputs": [
        {
          "output_type": "stream",
          "name": "stdout",
          "text": [
            "before increment, x= 5\n",
            "beginning execution of increment, x=  5\n",
            "ending execution of increment, x=  6\n",
            "after increment, x= 5\n"
          ]
        }
      ]
    },
    {
      "cell_type": "code",
      "source": [
        "def countdown(n=24):\n",
        "  for count in range (n,-1,-1):\n",
        "    print(count)\n",
        "\n",
        "countdown()    "
      ],
      "metadata": {
        "colab": {
          "base_uri": "https://localhost:8080/"
        },
        "id": "OirNAnaYgTjD",
        "outputId": "e4935c9c-5241-4803-ad33-d67cdeeef130"
      },
      "execution_count": null,
      "outputs": [
        {
          "output_type": "stream",
          "name": "stdout",
          "text": [
            "24\n",
            "23\n",
            "22\n",
            "21\n",
            "20\n",
            "19\n",
            "18\n",
            "17\n",
            "16\n",
            "15\n",
            "14\n",
            "13\n",
            "12\n",
            "11\n",
            "10\n",
            "9\n",
            "8\n",
            "7\n",
            "6\n",
            "5\n",
            "4\n",
            "3\n",
            "2\n",
            "1\n",
            "0\n"
          ]
        }
      ]
    },
    {
      "cell_type": "code",
      "source": [
        "def factorial(n):\n",
        "  if n == 0:\n",
        "    return 1\n",
        "  else:\n",
        "    return n * factorial(n-1)\n",
        "\n",
        "def main():\n",
        "  print('0! = ', factorial(0))\n",
        "  print('1! = ', factorial(1))\n",
        "  print('6! = ', factorial(6))\n",
        "  print('10! = ', factorial(10))\n",
        "\n",
        "main()  \n"
      ],
      "metadata": {
        "colab": {
          "base_uri": "https://localhost:8080/"
        },
        "id": "GbJs6CofguXS",
        "outputId": "b846a966-d763-4610-d622-9716f9e4fa74"
      },
      "execution_count": null,
      "outputs": [
        {
          "output_type": "stream",
          "name": "stdout",
          "text": [
            "0! =  1\n",
            "1! =  1\n",
            "6! =  720\n",
            "10! =  3628800\n"
          ]
        }
      ]
    },
    {
      "cell_type": "code",
      "source": [
        "from math import sqrt\n",
        "\n",
        "def is_prime(n):\n",
        "  trial_factor = 2\n",
        "  root = sqrt(n)\n",
        "  while trial_factor  <= root :\n",
        "    if n % trial_factor == 0:\n",
        "      return False;\n",
        "\n",
        "  return True;  "
      ],
      "metadata": {
        "id": "KaQf7IochqBk"
      },
      "execution_count": null,
      "outputs": []
    },
    {
      "cell_type": "code",
      "source": [
        "from primecode import is_prime \n",
        "\n",
        "def main():\n",
        "  num = int(input('enter an integer: '))\n",
        "  if is_prime(num):\n",
        "    print(num,'is prime')\n",
        "  else:\n",
        "    print(num,'is NOT prime')  "
      ],
      "metadata": {
        "colab": {
          "base_uri": "https://localhost:8080/",
          "height": 373
        },
        "id": "d5bw8Jg7iVAU",
        "outputId": "4d70cae7-32fe-4218-e81c-bbb0a44af61d"
      },
      "execution_count": null,
      "outputs": [
        {
          "output_type": "error",
          "ename": "ModuleNotFoundError",
          "evalue": "ignored",
          "traceback": [
            "\u001b[0;31m---------------------------------------------------------------------------\u001b[0m",
            "\u001b[0;31mModuleNotFoundError\u001b[0m                       Traceback (most recent call last)",
            "\u001b[0;32m<ipython-input-72-dbccbfa2f98f>\u001b[0m in \u001b[0;36m<module>\u001b[0;34m()\u001b[0m\n\u001b[0;32m----> 1\u001b[0;31m \u001b[0;32mfrom\u001b[0m \u001b[0mprimecode\u001b[0m \u001b[0;32mimport\u001b[0m \u001b[0mis_prime\u001b[0m\u001b[0;34m\u001b[0m\u001b[0;34m\u001b[0m\u001b[0m\n\u001b[0m\u001b[1;32m      2\u001b[0m \u001b[0;34m\u001b[0m\u001b[0m\n\u001b[1;32m      3\u001b[0m \u001b[0;32mdef\u001b[0m \u001b[0mmain\u001b[0m\u001b[0;34m(\u001b[0m\u001b[0;34m)\u001b[0m\u001b[0;34m:\u001b[0m\u001b[0;34m\u001b[0m\u001b[0;34m\u001b[0m\u001b[0m\n\u001b[1;32m      4\u001b[0m   \u001b[0mnum\u001b[0m \u001b[0;34m=\u001b[0m \u001b[0mint\u001b[0m\u001b[0;34m(\u001b[0m\u001b[0minput\u001b[0m\u001b[0;34m(\u001b[0m\u001b[0;34m'enter an integer: '\u001b[0m\u001b[0;34m)\u001b[0m\u001b[0;34m)\u001b[0m\u001b[0;34m\u001b[0m\u001b[0;34m\u001b[0m\u001b[0m\n\u001b[1;32m      5\u001b[0m   \u001b[0;32mif\u001b[0m \u001b[0mis_prime\u001b[0m\u001b[0;34m(\u001b[0m\u001b[0mnum\u001b[0m\u001b[0;34m)\u001b[0m\u001b[0;34m:\u001b[0m\u001b[0;34m\u001b[0m\u001b[0;34m\u001b[0m\u001b[0m\n",
            "\u001b[0;31mModuleNotFoundError\u001b[0m: No module named 'primecode'",
            "",
            "\u001b[0;31m---------------------------------------------------------------------------\u001b[0;32m\nNOTE: If your import is failing due to a missing package, you can\nmanually install dependencies using either !pip or !apt.\n\nTo view examples of installing some common dependencies, click the\n\"Open Examples\" button below.\n\u001b[0;31m---------------------------------------------------------------------------\u001b[0m\n"
          ],
          "errorDetails": {
            "actions": [
              {
                "action": "open_url",
                "actionText": "Open Examples",
                "url": "/notebooks/snippets/importing_libraries.ipynb"
              }
            ]
          }
        }
      ]
    },
    {
      "cell_type": "code",
      "source": [
        "def add(x,y):\n",
        "  return x+y\n",
        "def multiply(x,y):\n",
        "  return x*y\n",
        "def evaluate(f,x,y):\n",
        "  return f(x,y)\n",
        "def main():\n",
        "  print(add(2,3)) \n",
        "  print(multiply(2,3))\n",
        "  print(evaluate(add,2,3))\n",
        "  print(evaluate(multiply,2,3))\n",
        "\n",
        "main()       "
      ],
      "metadata": {
        "colab": {
          "base_uri": "https://localhost:8080/"
        },
        "id": "7tzJh-M-j8uh",
        "outputId": "aa627fe7-0432-46f5-8799-da25cb3aa121"
      },
      "execution_count": null,
      "outputs": [
        {
          "output_type": "stream",
          "name": "stdout",
          "text": [
            "5\n",
            "6\n",
            "5\n",
            "6\n"
          ]
        }
      ]
    }
  ]
}