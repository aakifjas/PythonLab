{
  "nbformat": 4,
  "nbformat_minor": 0,
  "metadata": {
    "colab": {
      "name": "python lab 2",
      "provenance": [],
      "collapsed_sections": [],
      "include_colab_link": true
    },
    "kernelspec": {
      "name": "python3",
      "display_name": "Python 3"
    },
    "language_info": {
      "name": "python"
    }
  },
  "cells": [
    {
      "cell_type": "markdown",
      "metadata": {
        "id": "view-in-github",
        "colab_type": "text"
      },
      "source": [
        "<a href=\"https://colab.research.google.com/github/aakifjas/PythonLab/blob/main/python_lab_2.ipynb\" target=\"_parent\"><img src=\"https://colab.research.google.com/assets/colab-badge.svg\" alt=\"Open In Colab\"/></a>"
      ]
    },
    {
      "cell_type": "code",
      "execution_count": 1,
      "metadata": {
        "colab": {
          "base_uri": "https://localhost:8080/"
        },
        "id": "75TWQxeeL7LA",
        "outputId": "2db6e099-250f-48a4-806b-426c52166916"
      },
      "outputs": [
        {
          "output_type": "stream",
          "name": "stdout",
          "text": [
            "Choice 1:add,2:sub,3:div,4:multi,5:exit\n",
            "Enter the choice:2\n",
            "sub\n",
            "Enter the value of a:2\n",
            "Enter the value of b:3\n",
            "the result of a+b = -1\n"
          ]
        }
      ],
      "source": [
        "print(\"Choice 1:add,2:sub,3:div,4:multi,5:exit\")\n",
        "c=int(input(\"Enter the choice:\"))\n",
        "if(c==1):\n",
        "  print(\"Add\")\n",
        "  A=int(input(\"Enter the value of a:\"))\n",
        "  B=int(input(\"Enter the value of b:\"))\n",
        "  D=A+B\n",
        "  print(\"the result of a+b =\",D)\n",
        "elif(c==2):\n",
        "  print(\"sub\")\n",
        "  A=int(input(\"Enter the value of a:\"))\n",
        "  B=int(input(\"Enter the value of b:\"))\n",
        "  D=A-B\n",
        "  print(\"the result of a+b =\",D)\n",
        "elif(c==3):\n",
        "  print(\"div\")\n",
        "  A=int(input(\"Enter the value of a:\"))\n",
        "  B=int(input(\"Enter the value of b:\"))\n",
        "  D=A/B\n",
        "  print(\"the result of a+b =\",D)\n",
        "elif(c==4):\n",
        "  print(\"multi\")\n",
        "  A=int(input(\"Enter the value of a:\"))\n",
        "  B=int(input(\"Enter the value of b:\"))\n",
        "  D=A*B\n",
        "  print(\"the result of a+b =\",D)\n",
        "elif(c==5):\n",
        "  print(\"choose the correct opertion\" )"
      ]
    }
  ]
}